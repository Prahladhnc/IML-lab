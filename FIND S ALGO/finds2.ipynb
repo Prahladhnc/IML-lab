{
 "cells": [
  {
   "cell_type": "code",
   "execution_count": 1,
   "id": "4f29cfe3",
   "metadata": {},
   "outputs": [],
   "source": [
    "import pandas as pd\n",
    "import numpy as np"
   ]
  },
  {
   "cell_type": "code",
   "execution_count": 3,
   "id": "df11204c",
   "metadata": {},
   "outputs": [
    {
     "name": "stdout",
     "output_type": "stream",
     "text": [
      "  citations    size inLibrary       price editions  buy\n",
      "0      some   small        no  affordable     many   no\n",
      "1      many     big        no   expensive      one  yes\n",
      "2      some     big    always   expensive      few   no\n",
      "3      many  medium        no   expensive     many  yes\n",
      "4      many   small        no  affordable     many  yes\n"
     ]
    }
   ],
   "source": [
    "data=pd.read_csv('finds2.csv')\n",
    "print(data)"
   ]
  },
  {
   "cell_type": "code",
   "execution_count": 5,
   "id": "9b2657e4",
   "metadata": {},
   "outputs": [
    {
     "name": "stdout",
     "output_type": "stream",
     "text": [
      "[['some' 'small' 'no' 'affordable' 'many']\n",
      " ['many' 'big' 'no' 'expensive' 'one']\n",
      " ['some' 'big' 'always' 'expensive' 'few']\n",
      " ['many' 'medium' 'no' 'expensive' 'many']\n",
      " ['many' 'small' 'no' 'affordable' 'many']]\n"
     ]
    }
   ],
   "source": [
    "concepts=np.array(data)[:,:-1]\n",
    "print(concepts)"
   ]
  },
  {
   "cell_type": "code",
   "execution_count": 11,
   "id": "2bc3a45e",
   "metadata": {},
   "outputs": [],
   "source": [
    "target=np.array(data)[:,-1]"
   ]
  },
  {
   "cell_type": "code",
   "execution_count": 14,
   "id": "910356ab",
   "metadata": {},
   "outputs": [],
   "source": []
  },
  {
   "cell_type": "code",
   "execution_count": 15,
   "id": "a02ef7fd",
   "metadata": {},
   "outputs": [
    {
     "name": "stdout",
     "output_type": "stream",
     "text": [
      "['many' '?' 'no' '?' '?']\n"
     ]
    }
   ],
   "source": []
  },
  {
   "cell_type": "code",
   "execution_count": 24,
   "id": "0a261e6c",
   "metadata": {},
   "outputs": [],
   "source": [
    "hypl=[]\n",
    "conl=[]"
   ]
  },
  {
   "cell_type": "code",
   "execution_count": 25,
   "id": "aaa42d4b",
   "metadata": {},
   "outputs": [],
   "source": [
    "def train(con,tar):\n",
    "    for i,val in enumerate(tar):\n",
    "        if val=='yes':\n",
    "            spech=con[i].copy()\n",
    "            hypl.append(spech)\n",
    "            break\n",
    "    \n",
    "    for i,val in enumerate(con):\n",
    "        if tar[i]=='yes':\n",
    "            conl.append(val)\n",
    "            for x in range(len(spech)):\n",
    "                if val[x] != spech[x]:\n",
    "                    spech[x]='?'\n",
    "                    else:\n",
    "                    pass\n",
    "    return spech"
   ]
  },
  {
   "cell_type": "code",
   "execution_count": 27,
   "id": "50e41722",
   "metadata": {},
   "outputs": [
    {
     "name": "stdout",
     "output_type": "stream",
     "text": [
      "['many' '?' 'no' '?' '?']\n",
      "\n",
      "Possible concepts are:\n",
      "['many' 'big' 'no' 'expensive' 'one']\n",
      "['many' 'medium' 'no' 'expensive' 'many']\n",
      "['many' 'small' 'no' 'affordable' 'many']\n",
      "['many' 'big' 'no' 'expensive' 'one']\n",
      "['many' 'medium' 'no' 'expensive' 'many']\n",
      "['many' 'small' 'no' 'affordable' 'many']\n",
      "\n",
      "Possible hypothesis are:\n"
     ]
    }
   ],
   "source": [
    "print(train(concepts,target))\n",
    "print(\"\\nPossible concepts are:\")\n",
    "for c in conl:\n",
    "    print(c)\n",
    "print(\"\\nPossible hypothesis are:\")\n"
   ]
  },
  {
   "cell_type": "code",
   "execution_count": null,
   "id": "1336ad6c",
   "metadata": {},
   "outputs": [],
   "source": []
  }
 ],
 "metadata": {
  "kernelspec": {
   "display_name": "Python 3 (ipykernel)",
   "language": "python",
   "name": "python3"
  },
  "language_info": {
   "codemirror_mode": {
    "name": "ipython",
    "version": 3
   },
   "file_extension": ".py",
   "mimetype": "text/x-python",
   "name": "python",
   "nbconvert_exporter": "python",
   "pygments_lexer": "ipython3",
   "version": "3.11.3"
  }
 },
 "nbformat": 4,
 "nbformat_minor": 5
}
